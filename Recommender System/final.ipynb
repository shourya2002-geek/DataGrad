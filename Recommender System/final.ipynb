{
 "cells": [
  {
   "cell_type": "code",
   "execution_count": 45,
   "id": "17112708",
   "metadata": {},
   "outputs": [
    {
     "name": "stdout",
     "output_type": "stream",
     "text": [
      "Defaulting to user installation because normal site-packages is not writeable\n",
      "Requirement already satisfied: strsim in /home/ayush/.local/lib/python3.8/site-packages (0.0.3)\n",
      "\u001b[33mWARNING: You are using pip version 21.2.2; however, version 21.2.4 is available.\n",
      "You should consider upgrading via the '/usr/bin/python3 -m pip install --upgrade pip' command.\u001b[0m\n"
     ]
    }
   ],
   "source": [
    "!pip install strsim"
   ]
  },
  {
   "cell_type": "code",
   "execution_count": 1,
   "id": "53ab94cb",
   "metadata": {},
   "outputs": [],
   "source": [
    "import pandas as pd\n",
    "from sklearn import neighbors, datasets\n",
    "from numpy.random import permutation\n",
    "import matplotlib.pyplot as plt\n",
    "import numpy as np\n",
    "import string\n",
    "from sklearn import svm\n",
    "from sklearn.ensemble import RandomForestClassifier\n",
    "from sklearn.metrics import precision_recall_fscore_support\n",
    "from sklearn.feature_extraction.text import CountVectorizer\n",
    "from sklearn.metrics.pairwise import cosine_similarity\n",
    "from similarity.cosine import Cosine\n",
    "import random"
   ]
  },
  {
   "cell_type": "code",
   "execution_count": 2,
   "id": "ddcddcde",
   "metadata": {},
   "outputs": [],
   "source": [
    "df = pd.read_csv(\"combine.csv\")\n",
    "medium = pd.read_csv(\"medium_final.csv\")\n"
   ]
  },
  {
   "cell_type": "code",
   "execution_count": 6,
   "id": "f15a233c",
   "metadata": {},
   "outputs": [
    {
     "data": {
      "text/plain": [
       "andriod development     35\n",
       "software engineering    35\n",
       "javascript              35\n",
       "cryptocurrency          35\n",
       "ios development         35\n",
       "programming             35\n",
       "machine learning        35\n",
       "psychology              34\n",
       "cybersecurity           34\n",
       "blockchain              32\n",
       "data_science            30\n",
       "Name: Skills, dtype: int64"
      ]
     },
     "execution_count": 6,
     "metadata": {},
     "output_type": "execute_result"
    }
   ],
   "source": [
    "medium['Skills'].value_counts()"
   ]
  },
  {
   "cell_type": "code",
   "execution_count": 7,
   "id": "deca8a8e",
   "metadata": {},
   "outputs": [],
   "source": [
    "df = df.dropna()"
   ]
  },
  {
   "cell_type": "code",
   "execution_count": 8,
   "id": "b960e1d3",
   "metadata": {},
   "outputs": [],
   "source": [
    "def course_difficulty(level):\n",
    "    data = df.copy().loc[df['Difficulty Level']==level]\n",
    "    data['index'] = np.arange(0, data.shape[0])\n",
    "    return data"
   ]
  },
  {
   "cell_type": "code",
   "execution_count": 9,
   "id": "44b00549",
   "metadata": {},
   "outputs": [],
   "source": [
    "def remove_punctuations(text):\n",
    "    text = str(text) \n",
    "    for punctuation in string.punctuation:\n",
    "        text = text.replace(punctuation, '')\n",
    "    return text"
   ]
  },
  {
   "cell_type": "code",
   "execution_count": 10,
   "id": "a6c62dbf",
   "metadata": {},
   "outputs": [],
   "source": [
    "def recommender_system(skill):\n",
    "    cosine = Cosine(2)\n",
    "    data[\"skill\"] = skill\n",
    "    data[\"p0\"] = data[\"skill\"].apply(lambda s: cosine.get_profile(s)) \n",
    "    data[\"p1\"] = data[\"new_column\"].apply(lambda s: cosine.get_profile(s)) \n",
    "    data[\"cosine_sim\"] = [cosine.similarity_profiles(p0,p1) for p0,p1 in zip(data[\"p0\"],data[\"p1\"])]\n",
    "    data.drop([\"p0\", \"p1\"], axis=1,inplace =  True)\n",
    "    return data"
   ]
  },
  {
   "cell_type": "code",
   "execution_count": 11,
   "id": "74481ff6",
   "metadata": {},
   "outputs": [],
   "source": [
    "def medium_recommender_system(skill):\n",
    "    cosine = Cosine(2)\n",
    "    medium[\"skill_provided\"] = skill\n",
    "    medium[\"p0\"] = medium[\"skill_provided\"].apply(lambda s: cosine.get_profile(s)) \n",
    "    medium[\"p1\"] = medium[\"Skills\"].apply(lambda s: cosine.get_profile(s)) \n",
    "    medium[\"cosine_sim\"] = [cosine.similarity_profiles(p0,p1) for p0,p1 in zip(medium[\"p0\"],medium[\"p1\"])]\n",
    "    medium.drop([\"p0\", \"p1\"], axis=1,inplace =  True)\n",
    "    return medium"
   ]
  },
  {
   "cell_type": "code",
   "execution_count": 46,
   "id": "873c205e",
   "metadata": {},
   "outputs": [
    {
     "name": "stdout",
     "output_type": "stream",
     "text": [
      "Enter your level\n",
      "Beginner\n"
     ]
    }
   ],
   "source": [
    "print(\"Enter your level\")\n",
    "level = input()\n",
    "data = course_difficulty(level)\n",
    "data\n",
    "data['final'] = data['all_skill'] + data['Course Description'] + data['Course Name']\n",
    "data['new_column'] = data['final'].apply(remove_punctuations)"
   ]
  },
  {
   "cell_type": "code",
   "execution_count": 47,
   "id": "05824e44",
   "metadata": {},
   "outputs": [
    {
     "name": "stdout",
     "output_type": "stream",
     "text": [
      "Enter course previously done: app developer\n"
     ]
    }
   ],
   "source": [
    "skill = input('Enter course previously done: ')\n",
    "final = recommender_system(skill)"
   ]
  },
  {
   "cell_type": "code",
   "execution_count": 48,
   "id": "7f1e19f5",
   "metadata": {},
   "outputs": [],
   "source": [
    "data = data.sort_values('cosine_sim', ascending = False)"
   ]
  },
  {
   "cell_type": "code",
   "execution_count": 49,
   "id": "2a10d84a",
   "metadata": {},
   "outputs": [
    {
     "data": {
      "text/plain": [
       "3756    0.394423\n",
       "3685    0.365907\n",
       "46      0.339217\n",
       "138     0.335388\n",
       "358     0.328640\n",
       "Name: cosine_sim, dtype: float64"
      ]
     },
     "execution_count": 49,
     "metadata": {},
     "output_type": "execute_result"
    }
   ],
   "source": [
    "data[0:5]['cosine_sim']"
   ]
  },
  {
   "cell_type": "code",
   "execution_count": 50,
   "id": "f3c14ffe",
   "metadata": {},
   "outputs": [
    {
     "data": {
      "text/html": [
       "<div>\n",
       "<style scoped>\n",
       "    .dataframe tbody tr th:only-of-type {\n",
       "        vertical-align: middle;\n",
       "    }\n",
       "\n",
       "    .dataframe tbody tr th {\n",
       "        vertical-align: top;\n",
       "    }\n",
       "\n",
       "    .dataframe thead th {\n",
       "        text-align: right;\n",
       "    }\n",
       "</style>\n",
       "<table border=\"1\" class=\"dataframe\">\n",
       "  <thead>\n",
       "    <tr style=\"text-align: right;\">\n",
       "      <th></th>\n",
       "      <th>Course Name</th>\n",
       "      <th>University / Industry Partner Name</th>\n",
       "      <th>Difficulty Level</th>\n",
       "      <th>Course Rating</th>\n",
       "      <th>Course URL</th>\n",
       "      <th>Course Description</th>\n",
       "      <th>all_skill</th>\n",
       "      <th>index</th>\n",
       "      <th>final</th>\n",
       "      <th>new_column</th>\n",
       "      <th>skill</th>\n",
       "      <th>cosine_sim</th>\n",
       "    </tr>\n",
       "  </thead>\n",
       "  <tbody>\n",
       "    <tr>\n",
       "      <th>3756</th>\n",
       "      <td>Intro to Point &amp; Click App Development</td>\n",
       "      <td>School of Programming &amp; Development</td>\n",
       "      <td>Beginner</td>\n",
       "      <td>None</td>\n",
       "      <td>https://www.udacity.com//course/intro-to-point...</td>\n",
       "      <td>In this short class you'll build powerful apps...</td>\n",
       "      <td>Salesforce App Development, Schema Building, D...</td>\n",
       "      <td>1498</td>\n",
       "      <td>Salesforce App Development, Schema Building, D...</td>\n",
       "      <td>Salesforce App Development Schema Building Dat...</td>\n",
       "      <td>app developer</td>\n",
       "      <td>0.394423</td>\n",
       "    </tr>\n",
       "    <tr>\n",
       "      <th>3685</th>\n",
       "      <td>UX Design for Mobile Developers</td>\n",
       "      <td>School of Programming &amp; Development</td>\n",
       "      <td>Beginner</td>\n",
       "      <td>None</td>\n",
       "      <td>https://www.udacity.com//course/ux-design-for-...</td>\n",
       "      <td>This is a design course made for developers. Y...</td>\n",
       "      <td>Android, UX Design, User-Centered Design</td>\n",
       "      <td>1482</td>\n",
       "      <td>Android, UX Design, User-Centered DesignThis i...</td>\n",
       "      <td>Android UX Design UserCentered DesignThis is a...</td>\n",
       "      <td>app developer</td>\n",
       "      <td>0.365907</td>\n",
       "    </tr>\n",
       "    <tr>\n",
       "      <th>46</th>\n",
       "      <td>Foundations of Objective-C App Development</td>\n",
       "      <td>University of California, Irvine</td>\n",
       "      <td>Beginner</td>\n",
       "      <td>4.7</td>\n",
       "      <td>https://www.coursera.org/learn/objective-c</td>\n",
       "      <td>An introduction to the Objective-C programming...</td>\n",
       "      <td>iOS Development  printf format string  xcode  ...</td>\n",
       "      <td>24</td>\n",
       "      <td>iOS Development  printf format string  xcode  ...</td>\n",
       "      <td>iOS Development  printf format string  xcode  ...</td>\n",
       "      <td>app developer</td>\n",
       "      <td>0.339217</td>\n",
       "    </tr>\n",
       "    <tr>\n",
       "      <th>138</th>\n",
       "      <td>Device-based Models with TensorFlow Lite</td>\n",
       "      <td>DeepLearning.AI</td>\n",
       "      <td>Beginner</td>\n",
       "      <td>4.6</td>\n",
       "      <td>https://www.coursera.org/learn/device-based-mo...</td>\n",
       "      <td>Bringing a machine learning model into the rea...</td>\n",
       "      <td>Deep Learning  raspberry pi  Android Developme...</td>\n",
       "      <td>62</td>\n",
       "      <td>Deep Learning  raspberry pi  Android Developme...</td>\n",
       "      <td>Deep Learning  raspberry pi  Android Developme...</td>\n",
       "      <td>app developer</td>\n",
       "      <td>0.335388</td>\n",
       "    </tr>\n",
       "    <tr>\n",
       "      <th>358</th>\n",
       "      <td>Getting Started With Application Development</td>\n",
       "      <td>Google Cloud</td>\n",
       "      <td>Beginner</td>\n",
       "      <td>4.5</td>\n",
       "      <td>https://www.coursera.org/learn/getting-started...</td>\n",
       "      <td>In this course, application developers learn h...</td>\n",
       "      <td>Google Cloud Platform  Cloud Platforms  Cloud ...</td>\n",
       "      <td>151</td>\n",
       "      <td>Google Cloud Platform  Cloud Platforms  Cloud ...</td>\n",
       "      <td>Google Cloud Platform  Cloud Platforms  Cloud ...</td>\n",
       "      <td>app developer</td>\n",
       "      <td>0.328640</td>\n",
       "    </tr>\n",
       "  </tbody>\n",
       "</table>\n",
       "</div>"
      ],
      "text/plain": [
       "                                       Course Name  \\\n",
       "3756        Intro to Point & Click App Development   \n",
       "3685               UX Design for Mobile Developers   \n",
       "46      Foundations of Objective-C App Development   \n",
       "138       Device-based Models with TensorFlow Lite   \n",
       "358   Getting Started With Application Development   \n",
       "\n",
       "       University / Industry Partner Name Difficulty Level Course Rating  \\\n",
       "3756  School of Programming & Development         Beginner          None   \n",
       "3685  School of Programming & Development         Beginner          None   \n",
       "46       University of California, Irvine         Beginner           4.7   \n",
       "138                       DeepLearning.AI         Beginner           4.6   \n",
       "358                          Google Cloud         Beginner           4.5   \n",
       "\n",
       "                                             Course URL  \\\n",
       "3756  https://www.udacity.com//course/intro-to-point...   \n",
       "3685  https://www.udacity.com//course/ux-design-for-...   \n",
       "46           https://www.coursera.org/learn/objective-c   \n",
       "138   https://www.coursera.org/learn/device-based-mo...   \n",
       "358   https://www.coursera.org/learn/getting-started...   \n",
       "\n",
       "                                     Course Description  \\\n",
       "3756  In this short class you'll build powerful apps...   \n",
       "3685  This is a design course made for developers. Y...   \n",
       "46    An introduction to the Objective-C programming...   \n",
       "138   Bringing a machine learning model into the rea...   \n",
       "358   In this course, application developers learn h...   \n",
       "\n",
       "                                              all_skill  index  \\\n",
       "3756  Salesforce App Development, Schema Building, D...   1498   \n",
       "3685           Android, UX Design, User-Centered Design   1482   \n",
       "46    iOS Development  printf format string  xcode  ...     24   \n",
       "138   Deep Learning  raspberry pi  Android Developme...     62   \n",
       "358   Google Cloud Platform  Cloud Platforms  Cloud ...    151   \n",
       "\n",
       "                                                  final  \\\n",
       "3756  Salesforce App Development, Schema Building, D...   \n",
       "3685  Android, UX Design, User-Centered DesignThis i...   \n",
       "46    iOS Development  printf format string  xcode  ...   \n",
       "138   Deep Learning  raspberry pi  Android Developme...   \n",
       "358   Google Cloud Platform  Cloud Platforms  Cloud ...   \n",
       "\n",
       "                                             new_column          skill  \\\n",
       "3756  Salesforce App Development Schema Building Dat...  app developer   \n",
       "3685  Android UX Design UserCentered DesignThis is a...  app developer   \n",
       "46    iOS Development  printf format string  xcode  ...  app developer   \n",
       "138   Deep Learning  raspberry pi  Android Developme...  app developer   \n",
       "358   Google Cloud Platform  Cloud Platforms  Cloud ...  app developer   \n",
       "\n",
       "      cosine_sim  \n",
       "3756    0.394423  \n",
       "3685    0.365907  \n",
       "46      0.339217  \n",
       "138     0.335388  \n",
       "358     0.328640  "
      ]
     },
     "execution_count": 50,
     "metadata": {},
     "output_type": "execute_result"
    }
   ],
   "source": [
    "data[0:5]"
   ]
  },
  {
   "cell_type": "code",
   "execution_count": 43,
   "id": "1019d0a9",
   "metadata": {},
   "outputs": [],
   "source": [
    "final = medium_recommender_system(skill)"
   ]
  },
  {
   "cell_type": "code",
   "execution_count": 44,
   "id": "0dd4b6d3",
   "metadata": {},
   "outputs": [],
   "source": [
    "final\n",
    "final= final.sort_values('cosine_sim', ascending = False)"
   ]
  },
  {
   "cell_type": "code",
   "execution_count": 45,
   "id": "208588ad",
   "metadata": {},
   "outputs": [
    {
     "data": {
      "text/html": [
       "<div>\n",
       "<style scoped>\n",
       "    .dataframe tbody tr th:only-of-type {\n",
       "        vertical-align: middle;\n",
       "    }\n",
       "\n",
       "    .dataframe tbody tr th {\n",
       "        vertical-align: top;\n",
       "    }\n",
       "\n",
       "    .dataframe thead th {\n",
       "        text-align: right;\n",
       "    }\n",
       "</style>\n",
       "<table border=\"1\" class=\"dataframe\">\n",
       "  <thead>\n",
       "    <tr style=\"text-align: right;\">\n",
       "      <th></th>\n",
       "      <th>Article_Name</th>\n",
       "      <th>Link</th>\n",
       "      <th>About</th>\n",
       "      <th>Skills</th>\n",
       "      <th>skill_provided</th>\n",
       "      <th>cosine_sim</th>\n",
       "    </tr>\n",
       "  </thead>\n",
       "  <tbody>\n",
       "    <tr>\n",
       "      <th>187</th>\n",
       "      <td>The Dark Art of Building an Enterprise-Grade M...</td>\n",
       "      <td>https://medium.com/@sundarsingh_2383/the-dark-...</td>\n",
       "      <td>A Mobile App is the epitome of digital presenc...</td>\n",
       "      <td>ios development</td>\n",
       "      <td>app development</td>\n",
       "      <td>0.769231</td>\n",
       "    </tr>\n",
       "    <tr>\n",
       "      <th>166</th>\n",
       "      <td>How to Call a Serverless Function Or Web API P...</td>\n",
       "      <td>https://betterprogramming.pub/how-to-call-a-se...</td>\n",
       "      <td>Automate your tasks using the power of shortcu...</td>\n",
       "      <td>ios development</td>\n",
       "      <td>app development</td>\n",
       "      <td>0.769231</td>\n",
       "    </tr>\n",
       "    <tr>\n",
       "      <th>182</th>\n",
       "      <td>A Look at StaticString In Swift</td>\n",
       "      <td>https://betterprogramming.pub/a-look-at-static...</td>\n",
       "      <td>Understand how StaticString works in Swift</td>\n",
       "      <td>ios development</td>\n",
       "      <td>app development</td>\n",
       "      <td>0.769231</td>\n",
       "    </tr>\n",
       "    <tr>\n",
       "      <th>181</th>\n",
       "      <td>An Updated SKLightNode Page</td>\n",
       "      <td>https://medium.com/geekculture/an-updated-skli...</td>\n",
       "      <td>Join me to re-document some of SpriteKits Node...</td>\n",
       "      <td>ios development</td>\n",
       "      <td>app development</td>\n",
       "      <td>0.769231</td>\n",
       "    </tr>\n",
       "    <tr>\n",
       "      <th>180</th>\n",
       "      <td>Basics of Swift UI Animations</td>\n",
       "      <td>https://medium.com/simform-engineering/basics-...</td>\n",
       "      <td>A simple step to step guide to getting started...</td>\n",
       "      <td>ios development</td>\n",
       "      <td>app development</td>\n",
       "      <td>0.769231</td>\n",
       "    </tr>\n",
       "  </tbody>\n",
       "</table>\n",
       "</div>"
      ],
      "text/plain": [
       "                                          Article_Name  \\\n",
       "187  The Dark Art of Building an Enterprise-Grade M...   \n",
       "166  How to Call a Serverless Function Or Web API P...   \n",
       "182                    A Look at StaticString In Swift   \n",
       "181                        An Updated SKLightNode Page   \n",
       "180                      Basics of Swift UI Animations   \n",
       "\n",
       "                                                  Link  \\\n",
       "187  https://medium.com/@sundarsingh_2383/the-dark-...   \n",
       "166  https://betterprogramming.pub/how-to-call-a-se...   \n",
       "182  https://betterprogramming.pub/a-look-at-static...   \n",
       "181  https://medium.com/geekculture/an-updated-skli...   \n",
       "180  https://medium.com/simform-engineering/basics-...   \n",
       "\n",
       "                                                 About           Skills  \\\n",
       "187  A Mobile App is the epitome of digital presenc...  ios development   \n",
       "166  Automate your tasks using the power of shortcu...  ios development   \n",
       "182         Understand how StaticString works in Swift  ios development   \n",
       "181  Join me to re-document some of SpriteKits Node...  ios development   \n",
       "180  A simple step to step guide to getting started...  ios development   \n",
       "\n",
       "      skill_provided  cosine_sim  \n",
       "187  app development    0.769231  \n",
       "166  app development    0.769231  \n",
       "182  app development    0.769231  \n",
       "181  app development    0.769231  \n",
       "180  app development    0.769231  "
      ]
     },
     "execution_count": 45,
     "metadata": {},
     "output_type": "execute_result"
    }
   ],
   "source": [
    "final[0:5]"
   ]
  },
  {
   "cell_type": "code",
   "execution_count": null,
   "id": "42a192f6",
   "metadata": {},
   "outputs": [],
   "source": []
  }
 ],
 "metadata": {
  "kernelspec": {
   "display_name": "Python 3",
   "language": "python",
   "name": "python3"
  },
  "language_info": {
   "codemirror_mode": {
    "name": "ipython",
    "version": 3
   },
   "file_extension": ".py",
   "mimetype": "text/x-python",
   "name": "python",
   "nbconvert_exporter": "python",
   "pygments_lexer": "ipython3",
   "version": "3.8.10"
  }
 },
 "nbformat": 4,
 "nbformat_minor": 5
}
